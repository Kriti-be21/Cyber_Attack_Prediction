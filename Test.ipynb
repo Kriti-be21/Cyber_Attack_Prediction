{
  "nbformat": 4,
  "nbformat_minor": 0,
  "metadata": {
    "colab": {
      "provenance": [],
      "mount_file_id": "1LfjstTodYnWHl7NPSQzDql1ZgxyKRtsa",
      "authorship_tag": "ABX9TyO1djS3II354Ar4IjUC8Ot8",
      "include_colab_link": true
    },
    "kernelspec": {
      "name": "python3",
      "display_name": "Python 3"
    },
    "language_info": {
      "name": "python"
    }
  },
  "cells": [
    {
      "cell_type": "markdown",
      "metadata": {
        "id": "view-in-github",
        "colab_type": "text"
      },
      "source": [
        "<a href=\"https://colab.research.google.com/github/Kriti-be21/Cyber_Attack_Prediction/blob/main/Test.ipynb\" target=\"_parent\"><img src=\"https://colab.research.google.com/assets/colab-badge.svg\" alt=\"Open In Colab\"/></a>"
      ]
    },
    {
      "cell_type": "code",
      "execution_count": null,
      "metadata": {
        "id": "wsGB5t4El3-D"
      },
      "outputs": [],
      "source": [
        "# Import the necessary libraries\n",
        "import pandas as pd\n",
        "from sklearn.model_selection import train_test_split\n",
        "from sklearn.neighbors import KNeighborsClassifier\n",
        "from sklearn.metrics import confusion_matrix, precision_recall_fscore_support"
      ]
    },
    {
      "cell_type": "code",
      "source": [
        "from google.colab import drive\n",
        "drive.mount('/content/drive/')"
      ],
      "metadata": {
        "colab": {
          "base_uri": "https://localhost:8080/"
        },
        "id": "6z75Gr51oNVg",
        "outputId": "d31535b7-44f3-4611-d364-5f498d38fe5c"
      },
      "execution_count": null,
      "outputs": [
        {
          "output_type": "stream",
          "name": "stdout",
          "text": [
            "Mounted at /content/drive/\n"
          ]
        }
      ]
    },
    {
      "cell_type": "code",
      "source": [
        "# Load the data\n",
        "df = pd.read_csv('/content/drive/MyDrive/train.csv')"
      ],
      "metadata": {
        "id": "gg20tmdMl9po"
      },
      "execution_count": 18,
      "outputs": []
    },
    {
      "cell_type": "code",
      "source": [
        "df1= pd.read_csv('/content/drive/MyDrive/test.csv')"
      ],
      "metadata": {
        "id": "qoDhoArksQUp"
      },
      "execution_count": 20,
      "outputs": []
    },
    {
      "cell_type": "code",
      "source": [
        "# Split the data into training and test sets\n",
        "X_train, X_test, y_train, y_test = train_test_split(df.drop('label', axis=1), df['label'], test_size=0.2)"
      ],
      "metadata": {
        "id": "Z8VcbQQHl9l2"
      },
      "execution_count": 21,
      "outputs": []
    },
    {
      "cell_type": "code",
      "source": [
        "X1=df1.drop('label', axis=1)"
      ],
      "metadata": {
        "id": "HIeWbkM-teMs"
      },
      "execution_count": 22,
      "outputs": []
    },
    {
      "cell_type": "code",
      "source": [
        "Y1=df1['label']"
      ],
      "metadata": {
        "id": "fjXFZZYIt9XC"
      },
      "execution_count": 23,
      "outputs": []
    },
    {
      "cell_type": "code",
      "source": [
        "# Train the KNN model\n",
        "for k in [3, 5, 7, 9, 11]:\n",
        "    knn = KNeighborsClassifier(n_neighbors=k)\n",
        "    knn.fit(X_train, y_train)"
      ],
      "metadata": {
        "id": "RNrGOLnHl9iv"
      },
      "execution_count": 24,
      "outputs": []
    },
    {
      "cell_type": "code",
      "source": [
        "    # Make predictions on the test set\n",
        "    y_pred = knn.predict(X_test)  "
      ],
      "metadata": {
        "id": "P_j_QcaemLRv"
      },
      "execution_count": 25,
      "outputs": []
    },
    {
      "cell_type": "code",
      "source": [
        " # Evaluate the performance of the model\n",
        "print(f\"For k = {k}:\")\n",
        "print(f\"Confusion Matrix: \\n{confusion_matrix(y_test, y_pred)}\")\n",
        "print(f\"Precision, Recall, F1 Score: \\n{precision_recall_fscore_support(y_test, y_pred, average='weighted')}\")"
      ],
      "metadata": {
        "colab": {
          "base_uri": "https://localhost:8080/",
          "height": 0
        },
        "id": "mVNjg77VmLCd",
        "outputId": "65db0c18-9ebd-4831-e9f0-7139e8ee5104"
      },
      "execution_count": 26,
      "outputs": [
        {
          "output_type": "stream",
          "name": "stdout",
          "text": [
            "For k = 11:\n",
            "Confusion Matrix: \n",
            "[[803   2   1   0   0   0   3   0   0   1]\n",
            " [  0 896   1   0   0   0   2   1   0   0]\n",
            " [  9  18 791   4   1   2   0  25   3   3]\n",
            " [  1   9   5 839   0   9   2   4   4   4]\n",
            " [  0  14   0   0 771   0   1   1   0  30]\n",
            " [  2   3   0  11   1 703   8   1   0   5]\n",
            " [  1   1   1   0   2   3 810   0   0   0]\n",
            " [  0  11   2   0   2   0   0 897   0   8]\n",
            " [  3  11   1  14   8  21   6   3 718  11]\n",
            " [  1   4   2  10   7   0   0  13   2 833]]\n",
            "Precision, Recall, F1 Score: \n",
            "(0.9604184571494452, 0.9596428571428571, 0.9595421517018364, None)\n"
          ]
        }
      ]
    },
    {
      "cell_type": "code",
      "source": [
        "y1_pred = knn.predict(X1)"
      ],
      "metadata": {
        "id": "uOFuKklctvSj"
      },
      "execution_count": 27,
      "outputs": []
    },
    {
      "cell_type": "code",
      "source": [
        " # Evaluate the performance of the model on test dataset\n",
        "print(f\"For k = {k}:\")\n",
        "print(f\"Confusion Matrix: \\n{confusion_matrix(Y1, y1_pred)}\")\n",
        "print(f\"Precision, Recall, F1 Score: \\n{precision_recall_fscore_support(Y1, y1_pred, average='weighted')}\")"
      ],
      "metadata": {
        "colab": {
          "base_uri": "https://localhost:8080/",
          "height": 0
        },
        "id": "hZ_0_1_VuDky",
        "outputId": "da3a5279-a000-439b-c413-4c3e387a21ba"
      },
      "execution_count": 28,
      "outputs": [
        {
          "output_type": "stream",
          "name": "stdout",
          "text": [
            "For k = 11:\n",
            "Confusion Matrix: \n",
            "[[ 971    1    1    0    0    2    4    1    0    0]\n",
            " [   0 1131    2    1    0    0    1    0    0    0]\n",
            " [  15   14  972    3    2    0    2   18    6    0]\n",
            " [   0    2    2  981    1    9    0    9    2    4]\n",
            " [   0   13    0    0  938    0    6    3    1   21]\n",
            " [   4    2    0    9    3  865    5    1    0    3]\n",
            " [   4    6    0    0    3    3  942    0    0    0]\n",
            " [   0   26    5    0    2    0    0  984    0   11]\n",
            " [   7    4    7   15    6   12    3    7  904    9]\n",
            " [   3    8    3    5   10    3    1   11    0  965]]\n",
            "Precision, Recall, F1 Score: \n",
            "(0.9657250640619667, 0.9653, 0.9652486070483188, None)\n"
          ]
        }
      ]
    }
  ]
}